{
 "cells": [
  {
   "cell_type": "code",
   "execution_count": 9,
   "metadata": {
    "collapsed": true
   },
   "outputs": [],
   "source": [
    "from itertools import cycle\n",
    "from time import time\n",
    "import numpy as np\n",
    "import matplotlib as mpl\n",
    "import matplotlib.pyplot as plt\n",
    "import matplotlib.colors as colors\n",
    "\n",
    "from sklearn.preprocessing import StandardScaler\n",
    "from sklearn.cluster import Birch\n",
    "from sklearn.datasets.samples_generator import make_blobs"
   ]
  },
  {
   "cell_type": "code",
   "execution_count": 10,
   "metadata": {
    "collapsed": true
   },
   "outputs": [],
   "source": [
    "## 设置属性防止中文乱码\n",
    "mpl.rcParams['font.sans-serif'] = [u'SimHei']\n",
    "mpl.rcParams['axes.unicode_minus'] = False"
   ]
  },
  {
   "cell_type": "code",
   "execution_count": 11,
   "metadata": {
    "collapsed": true
   },
   "outputs": [],
   "source": [
    "## 产生模拟数据\n",
    "xx = np.linspace(-22, 22, 10)\n",
    "yy = np.linspace(-22, 22, 10)\n",
    "xx, yy = np.meshgrid(xx, yy)\n",
    "n_centres = np.hstack((np.ravel(xx)[:, np.newaxis],\n",
    "                       np.ravel(yy)[:, np.newaxis]))\n",
    "#产生10万条特征属性是2，类别是100,符合高斯分布的数据集\n",
    "X, y = make_blobs(n_samples=100000,n_features=2, centers=n_centres, random_state=28)"
   ]
  },
  {
   "cell_type": "code",
   "execution_count": null,
   "metadata": {
    "collapsed": false
   },
   "outputs": [],
   "source": [
    "#创建不同的参数（簇直径）Birch层次聚类\n",
    "birch_models = [\n",
    "    Birch(threshold=1.7, n_clusters=None),\n",
    "    Birch(threshold=0.5, n_clusters=None),\n",
    "    Birch(threshold=1.7, n_clusters=100)\n",
    "]\n",
    "#threshold：簇直径的阈值，    branching_factor：叶子个数\n",
    "\n",
    "#我们也可以加参数来试一下效果，比如加入分支因子branching_factor，给定不同的参数值，看聚类的结果 "
   ]
  },
  {
   "cell_type": "code",
   "execution_count": null,
   "metadata": {
    "collapsed": false
   },
   "outputs": [],
   "source": [
    "## 画图\n",
    "final_step = [u'直径=1.7;n_lusters=None',u'直径=0.5;n_clusters=None',u'直径=1.7;n_lusters=100']\n",
    "\n",
    "plt.figure(figsize=(12,8),facecolor='w')\n",
    "plt.subplots_adjust(left = 0.02, right = 0.98, bottom = 0.1,top = 0.9)\n",
    "colors_ = cycle(colors.cnames.keys())\n",
    "cm = mpl.colors.ListedColormap(colors.cnames.keys())\n",
    "\n",
    "for ind, (birch_model, info) in enumerate(zip(birch_models, final_step)):\n",
    "    t = time()\n",
    "    birch_model.fit(X)\n",
    "    time_ = time() - t\n",
    "    \n",
    "    #获取模型结果（label(训练数据对应的标签)和中心点）    \n",
    "    labels = birch_model.labels_\n",
    "    centroids = birch_model.subcluster_centers_\n",
    "    n_clusters = len(np.unique(centroids))\n",
    "    print (\"Birch算法，参数信息为：%s；模型构建消耗时间为:%.3f秒；聚类中心数目:%d---%d\" % \n",
    "                   (info, time_, len(np.unique(labels)), n_clusters))\n",
    "    \n",
    "    ## 画图\n",
    "    subinx = 221 + ind\n",
    "    plt.subplot(subinx)\n",
    "    for this_centroid, k, col in zip(centroids, range(n_clusters), colors_):\n",
    "        mask = labels == k\n",
    "        plt.plot(X[mask, 0], X[mask, 1], 'w', markerfacecolor=col, marker='.')\n",
    "        if birch_model.n_clusters is None:\n",
    "            # 如果给定了簇的数目这个参数，那么中心点是不准确的\n",
    "            plt.plot(this_centroid[0], this_centroid[1], '*', markerfacecolor=col, markeredgecolor='k', markersize=2)\n",
    "    plt.ylim([-25, 25])\n",
    "    plt.xlim([-25, 25])\n",
    "    plt.title(u'Birch算法%s，耗时%.3fs' % (info, time_))\n",
    "    plt.grid(False)\n",
    "\n",
    "## 原始数据集显示\n",
    "plt.subplot(224)\n",
    "plt.scatter(X[:, 0], X[:, 1], c=y, s=1, cmap=cm, edgecolors='none')\n",
    "plt.ylim([-25, 25])\n",
    "plt.xlim([-25, 25])\n",
    "plt.title(u'原始数据')\n",
    "plt.grid(False)\n",
    "    \n",
    "plt.show()"
   ]
  },
  {
   "cell_type": "code",
   "execution_count": null,
   "metadata": {
    "collapsed": true
   },
   "outputs": [],
   "source": []
  }
 ],
 "metadata": {
  "kernelspec": {
   "display_name": "Python 3",
   "language": "python",
   "name": "python3"
  },
  "language_info": {
   "codemirror_mode": {
    "name": "ipython",
    "version": 3
   },
   "file_extension": ".py",
   "mimetype": "text/x-python",
   "name": "python",
   "nbconvert_exporter": "python",
   "pygments_lexer": "ipython3",
   "version": "3.6.6"
  }
 },
 "nbformat": 4,
 "nbformat_minor": 0
}
